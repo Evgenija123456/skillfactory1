{
 "cells": [
  {
   "attachments": {},
   "cell_type": "markdown",
   "metadata": {},
   "source": [
    "# PROJECT-3. Анализ воронки\n",
    "### Пархоменко Евгения Александровна\n",
    "#### DARP 1014"
   ]
  },
  {
   "attachments": {},
   "cell_type": "markdown",
   "metadata": {},
   "source": [
    "### ОПИСАНТЕ ГИПОТЕЗЫ\n",
    "Проверим три предположения:\n",
    "- Должна быть разница в поведении групп, которые проходят и не проходят обучение. Но так ли это? Влияет ли обучение на скорость прохождения других этапов игры?\n",
    "- Верно ли, что повторное прохождение обучения положительно влияет на оплату?\n",
    "- Если пользователь сначала выбирает уровень сложности, будет ли он потом проходить обучение?\n",
    "\n",
    "Проверку будем производить на основе данных пользователей, которые зарегистрировались в 2018 году.\n",
    "\n",
    "### ЦЕЛЬ\n",
    "Исследовать поведение пользователей в обновлённом приложении.\n",
    "\n",
    "### ЗАДАЧИ\n",
    "В рамках проверки гипотез вам необходимо решить три задачи:\n",
    "\n",
    "1. Определить, насколько обучение сокращает время прохождения этапов игры.\n",
    "2. Доказать, что успешное обучение само по себе влияет на оплату и не имеет значения то, каким этапом оно шло.\n",
    "3. Определить, насколько прозрачен процесс взаимодействия с игрой.\n",
    "\n",
    "### КОНКРЕТНЫЕ ШАГИ (ФОРМАЛИЗОВАННЫЕ ЗАДАЧИ)\n",
    "\n",
    "1. Сравнить время прохождения различных этапов для пользователей, которые завершили обучение, и пользователей, не начинавших обучение. Если показатель отличается, выяснить, насколько.\n",
    "2. Проверить, существует ли зависимость между вероятностью оплаты вопросов и количеством обучений, которые начинал или завершал пользователь. \n",
    "3. Выяснить, как часто пользователи начинают обучение после выбора уровня сложности. (Это позволит оценить прозрачность процесса взаимодействия с игрой: если пользователи после выбора уровня сложности обращаются к обучению, значит, работа с приложением непонятна.)\n",
    "\n",
    "### Ход проверки"
   ]
  },
  {
   "attachments": {},
   "cell_type": "markdown",
   "metadata": {},
   "source": [
    "Импортируем нужные библиотеки"
   ]
  },
  {
   "cell_type": "code",
   "execution_count": 1,
   "metadata": {},
   "outputs": [],
   "source": [
    "import pandas as pd\n",
    "import plotly.express as px\n",
    "import plotly.graph_objects as go\n",
    "import plotly.figure_factory as ff\n",
    "import matplotlib.pyplot as plt\n",
    "%matplotlib inline\n",
    "import seaborn as sns\n"
   ]
  },
  {
   "attachments": {},
   "cell_type": "markdown",
   "metadata": {},
   "source": [
    "Получаем данные"
   ]
  },
  {
   "cell_type": "code",
   "execution_count": 2,
   "metadata": {},
   "outputs": [],
   "source": [
    "event = pd.read_csv(\"C:/IDE/Dataset/7_4_Events.csv\")\n",
    "events_df = event.copy()\n",
    "# переименум колонку  id  в  event_id\n",
    "events_df = events_df.rename(columns={'id':'event_id'})"
   ]
  },
  {
   "cell_type": "code",
   "execution_count": 3,
   "metadata": {},
   "outputs": [],
   "source": [
    "purchase  = pd.read_csv(\"C:/IDE/Dataset/purchase.csv\")\n",
    "purchase_df = purchase.copy()\n",
    "# переименум колонку  id  в  purchase_id и event_datetime в start_time\n",
    "purchase_df = purchase_df.rename(columns={\"id\": \"purchase_id\", \"event_datetime\": \"start_time\"})"
   ]
  },
  {
   "attachments": {},
   "cell_type": "markdown",
   "metadata": {},
   "source": [
    "По условию, все задания необходимо выполнять с использованием данных пользователей, зарегистрировавшихся в 2018 году."
   ]
  },
  {
   "cell_type": "code",
   "execution_count": 4,
   "metadata": {},
   "outputs": [
    {
     "name": "stdout",
     "output_type": "stream",
     "text": [
      "<class 'pandas.core.frame.DataFrame'>\n",
      "Int64Index: 66959 entries, 51405 to 118364\n",
      "Data columns (total 6 columns):\n",
      " #   Column          Non-Null Count  Dtype  \n",
      "---  ------          --------------  -----  \n",
      " 0   event_id        66959 non-null  int64  \n",
      " 1   event_type      66959 non-null  object \n",
      " 2   selected_level  8342 non-null   object \n",
      " 3   start_time      66959 non-null  object \n",
      " 4   tutorial_id     32954 non-null  float64\n",
      " 5   user_id         66959 non-null  int64  \n",
      "dtypes: float64(1), int64(2), object(3)\n",
      "memory usage: 3.6+ MB\n"
     ]
    }
   ],
   "source": [
    "# Определяем дату начала и конца нашей выборки (2018)\n",
    "mask_even_1 = (events_df['start_time'] >= '2018-01-01') & (events_df['start_time'] < '2019-01-01')\n",
    "\n",
    "# Выбираем только зарегестрированых пользователей\n",
    "mask_even_2 = events_df['event_type'] == 'registration'\n",
    "\n",
    "# Cоздаем список пользователей зарегистировавшихся в 2018 году\n",
    "users_even_2018 = events_df[mask_even_1 & mask_even_2]['user_id'].to_list()\n",
    "\n",
    "# Применяем наш список зарегистрировавшихся в 2018 году пользователей к таблице,\n",
    "# тем самым убирая из нее пользователей, которые не попали в этот список\n",
    "events_df = events_df[events_df['user_id'].isin(users_even_2018)]\n",
    "\n",
    "# Смотрим результат (из 252334 пользователей осталось 66959)\n",
    "events_df.info()"
   ]
  },
  {
   "attachments": {},
   "cell_type": "markdown",
   "metadata": {},
   "source": [
    "Применяем наш список зарегистрировавшихся в 2018 году пользователей к таблице, тем самым убирая из нее пользователей, которые не попали в этот список"
   ]
  },
  {
   "cell_type": "code",
   "execution_count": 5,
   "metadata": {},
   "outputs": [
    {
     "name": "stdout",
     "output_type": "stream",
     "text": [
      "<class 'pandas.core.frame.DataFrame'>\n",
      "Int64Index: 1600 entries, 1171 to 2778\n",
      "Data columns (total 4 columns):\n",
      " #   Column       Non-Null Count  Dtype \n",
      "---  ------       --------------  ----- \n",
      " 0   purchase_id  1600 non-null   int64 \n",
      " 1   user_id      1600 non-null   int64 \n",
      " 2   start_time   1600 non-null   object\n",
      " 3   amount       1600 non-null   int64 \n",
      "dtypes: int64(3), object(1)\n",
      "memory usage: 62.5+ KB\n"
     ]
    }
   ],
   "source": [
    "purchase_df = purchase_df[purchase_df['user_id'].isin(users_even_2018)]\n",
    "purchase_df.info()"
   ]
  },
  {
   "attachments": {},
   "cell_type": "markdown",
   "metadata": {},
   "source": [
    "Производим преобразование типов"
   ]
  },
  {
   "cell_type": "code",
   "execution_count": 6,
   "metadata": {},
   "outputs": [],
   "source": [
    "events_df['start_time'] = pd.to_datetime(events_df['start_time'])\n",
    "purchase_df['start_time'] = pd.to_datetime(purchase_df['start_time'])"
   ]
  },
  {
   "attachments": {},
   "cell_type": "markdown",
   "metadata": {},
   "source": [
    "Добавим в датафрейм purchase_df столбец event_type, который будет содержать одно значение purchase. Это нужно, чтобы в объединённом датафрейме однозначно выделить события оплаты."
   ]
  },
  {
   "cell_type": "code",
   "execution_count": 7,
   "metadata": {},
   "outputs": [],
   "source": [
    "purchase_df['event_type'] = 'purchase'"
   ]
  },
  {
   "attachments": {},
   "cell_type": "markdown",
   "metadata": {},
   "source": [
    "Сделаем объединенный датафрейм из событий и оплат"
   ]
  },
  {
   "cell_type": "code",
   "execution_count": 8,
   "metadata": {},
   "outputs": [
    {
     "data": {
      "text/html": [
       "<div>\n",
       "<style scoped>\n",
       "    .dataframe tbody tr th:only-of-type {\n",
       "        vertical-align: middle;\n",
       "    }\n",
       "\n",
       "    .dataframe tbody tr th {\n",
       "        vertical-align: top;\n",
       "    }\n",
       "\n",
       "    .dataframe thead th {\n",
       "        text-align: right;\n",
       "    }\n",
       "</style>\n",
       "<table border=\"1\" class=\"dataframe\">\n",
       "  <thead>\n",
       "    <tr style=\"text-align: right;\">\n",
       "      <th></th>\n",
       "      <th>event_id</th>\n",
       "      <th>event_type</th>\n",
       "      <th>selected_level</th>\n",
       "      <th>start_time</th>\n",
       "      <th>tutorial_id</th>\n",
       "      <th>user_id</th>\n",
       "      <th>purchase_id</th>\n",
       "      <th>amount</th>\n",
       "    </tr>\n",
       "  </thead>\n",
       "  <tbody>\n",
       "    <tr>\n",
       "      <th>0</th>\n",
       "      <td>80308.0</td>\n",
       "      <td>registration</td>\n",
       "      <td>NaN</td>\n",
       "      <td>2018-01-01 03:48:40</td>\n",
       "      <td>NaN</td>\n",
       "      <td>27832</td>\n",
       "      <td>NaN</td>\n",
       "      <td>NaN</td>\n",
       "    </tr>\n",
       "    <tr>\n",
       "      <th>1</th>\n",
       "      <td>80309.0</td>\n",
       "      <td>registration</td>\n",
       "      <td>NaN</td>\n",
       "      <td>2018-01-01 04:07:25</td>\n",
       "      <td>NaN</td>\n",
       "      <td>27833</td>\n",
       "      <td>NaN</td>\n",
       "      <td>NaN</td>\n",
       "    </tr>\n",
       "    <tr>\n",
       "      <th>2</th>\n",
       "      <td>80310.0</td>\n",
       "      <td>registration</td>\n",
       "      <td>NaN</td>\n",
       "      <td>2018-01-01 08:35:10</td>\n",
       "      <td>NaN</td>\n",
       "      <td>27834</td>\n",
       "      <td>NaN</td>\n",
       "      <td>NaN</td>\n",
       "    </tr>\n",
       "  </tbody>\n",
       "</table>\n",
       "</div>"
      ],
      "text/plain": [
       "   event_id    event_type selected_level          start_time  tutorial_id  \\\n",
       "0   80308.0  registration            NaN 2018-01-01 03:48:40          NaN   \n",
       "1   80309.0  registration            NaN 2018-01-01 04:07:25          NaN   \n",
       "2   80310.0  registration            NaN 2018-01-01 08:35:10          NaN   \n",
       "\n",
       "   user_id  purchase_id  amount  \n",
       "0    27832          NaN     NaN  \n",
       "1    27833          NaN     NaN  \n",
       "2    27834          NaN     NaN  "
      ]
     },
     "execution_count": 8,
     "metadata": {},
     "output_type": "execute_result"
    }
   ],
   "source": [
    "total_events_df = pd.concat([events_df,purchase_df],sort=False)\n",
    "total_events_df = total_events_df.reset_index(drop=True).sort_values('start_time')\n",
    "total_events_df.head(3)"
   ]
  },
  {
   "attachments": {},
   "cell_type": "markdown",
   "metadata": {},
   "source": [
    "## Проверяем гипотезу № 1\n",
    "- Должна быть разница в поведении групп, которые проходят и не проходят обучение. Но так ли это? Влияет ли обучение на скорость прохождения других этапов игры?"
   ]
  },
  {
   "attachments": {},
   "cell_type": "markdown",
   "metadata": {},
   "source": [
    "Создадим сводную таблицу по минимальному времени начала этапа для подсчета дальнейше разницы"
   ]
  },
  {
   "cell_type": "code",
   "execution_count": 9,
   "metadata": {},
   "outputs": [],
   "source": [
    "pivot_df = total_events_df.pivot_table(values='start_time', index='user_id', columns='event_type', aggfunc='min') "
   ]
  },
  {
   "attachments": {},
   "cell_type": "markdown",
   "metadata": {},
   "source": [
    "Посчитаем время между этапами"
   ]
  },
  {
   "cell_type": "code",
   "execution_count": 10,
   "metadata": {},
   "outputs": [],
   "source": [
    "# время от регистрации до начала обучения\n",
    "pivot_df['delta_tutorial_start'] = (pivot_df['tutorial_start'] - pivot_df['registration'])/ pd.Timedelta('1 hour') \n",
    "# время от регистрации до конца обучения\n",
    "pivot_df['delta_tutorial_finish'] = (pivot_df['tutorial_finish'] - pivot_df['registration'])/ pd.Timedelta('1 hour') \n",
    "# время на всю последовательность\n",
    "pivot_df['delta_all_time'] = (pivot_df['purchase'] - pivot_df['registration'])/ pd.Timedelta('1 hour') \n",
    "# время от выбоара сложности до окончания обучения\n",
    "pivot_df['delta_level_choice'] = (pivot_df['level_choice'] - pivot_df['tutorial_finish'])/ pd.Timedelta('1 hour') \n",
    "# время от выбора сложности до покупки\n",
    "pivot_df['delta_pack_choice'] = (pivot_df['pack_choice'] - pivot_df['level_choice'])/ pd.Timedelta('1 hour') \n",
    "# время на оплату\n",
    "pivot_df['delta_purchase'] = (pivot_df['purchase'] - pivot_df['pack_choice'])/ pd.Timedelta('1 hour') \n",
    "pivot_df = pivot_df.reset_index()"
   ]
  },
  {
   "attachments": {},
   "cell_type": "markdown",
   "metadata": {},
   "source": [
    "Создадим списки пользователей:\n",
    "- список всех пользователей (all_users);\n",
    "- пользователи, которые начинали обчение (users_with_started_tutorial);\n",
    "- пользовватели, которые не начинали обучение (not_start_tutorial);\n",
    "- пользователи, которые завершили обучение (tutorial_finished_users)."
   ]
  },
  {
   "cell_type": "code",
   "execution_count": 11,
   "metadata": {},
   "outputs": [],
   "source": [
    "all_users = set(total_events_df['user_id'].unique())\n",
    "users_with_started_tutorial = set(total_events_df[total_events_df['event_type'] == 'tutorial_start']['user_id'])\n",
    "not_start_tutorial = set(all_users.difference(users_with_started_tutorial))\n",
    "tutorial_finished_users = set(total_events_df[total_events_df[\"event_type\"] == \"tutorial_finish\"]['user_id'])\n",
    "users_not_finished_tutorial = set(users_with_started_tutorial.difference(tutorial_finished_users))"
   ]
  },
  {
   "attachments": {},
   "cell_type": "markdown",
   "metadata": {},
   "source": [
    "Создадим новый признак 'group', где разделим  всех пользователей на группы"
   ]
  },
  {
   "cell_type": "code",
   "execution_count": 12,
   "metadata": {},
   "outputs": [],
   "source": [
    "def get_tutorial_status (user_id):\n",
    "    if user_id in not_start_tutorial:\n",
    "        return 'not_started'\n",
    "    elif user_id in tutorial_finished_users:\n",
    "        return 'finished'\n",
    "    elif user_id in users_not_finished_tutorial:\n",
    "        return 'not_finished' \n",
    "    \n",
    "pivot_df['group'] = pivot_df['user_id'].apply(get_tutorial_status)"
   ]
  },
  {
   "attachments": {},
   "cell_type": "markdown",
   "metadata": {},
   "source": [
    "Расчитаем среднее время, затраченное различными группами пользователей, на прохождение игры (от этапа регистрации, до совершения покупки)"
   ]
  },
  {
   "cell_type": "code",
   "execution_count": 13,
   "metadata": {},
   "outputs": [],
   "source": [
    "user_group = pivot_df.groupby(['group'], as_index=False)['delta_all_time'].mean().round(2)"
   ]
  },
  {
   "attachments": {},
   "cell_type": "markdown",
   "metadata": {},
   "source": [
    "Строим график"
   ]
  },
  {
   "cell_type": "code",
   "execution_count": 14,
   "metadata": {},
   "outputs": [
    {
     "data": {
      "application/vnd.plotly.v1+json": {
       "config": {
        "plotlyServerURL": "https://plot.ly"
       },
       "data": [
        {
         "alignmentgroup": "True",
         "hovertemplate": "group=%{x}<br>delta_all_time=%{text}<extra></extra>",
         "legendgroup": "",
         "marker": {
          "color": "#636efa",
          "pattern": {
           "shape": ""
          }
         },
         "name": "",
         "offsetgroup": "",
         "orientation": "v",
         "showlegend": false,
         "text": [
          96.5,
          101.55,
          105.1
         ],
         "textposition": "auto",
         "type": "bar",
         "x": [
          "finished",
          "not_finished",
          "not_started"
         ],
         "xaxis": "x",
         "y": [
          96.5,
          101.55,
          105.1
         ],
         "yaxis": "y"
        }
       ],
       "layout": {
        "barmode": "relative",
        "height": 500,
        "legend": {
         "tracegroupgap": 0
        },
        "template": {
         "data": {
          "bar": [
           {
            "error_x": {
             "color": "#2a3f5f"
            },
            "error_y": {
             "color": "#2a3f5f"
            },
            "marker": {
             "line": {
              "color": "#E5ECF6",
              "width": 0.5
             },
             "pattern": {
              "fillmode": "overlay",
              "size": 10,
              "solidity": 0.2
             }
            },
            "type": "bar"
           }
          ],
          "barpolar": [
           {
            "marker": {
             "line": {
              "color": "#E5ECF6",
              "width": 0.5
             },
             "pattern": {
              "fillmode": "overlay",
              "size": 10,
              "solidity": 0.2
             }
            },
            "type": "barpolar"
           }
          ],
          "carpet": [
           {
            "aaxis": {
             "endlinecolor": "#2a3f5f",
             "gridcolor": "white",
             "linecolor": "white",
             "minorgridcolor": "white",
             "startlinecolor": "#2a3f5f"
            },
            "baxis": {
             "endlinecolor": "#2a3f5f",
             "gridcolor": "white",
             "linecolor": "white",
             "minorgridcolor": "white",
             "startlinecolor": "#2a3f5f"
            },
            "type": "carpet"
           }
          ],
          "choropleth": [
           {
            "colorbar": {
             "outlinewidth": 0,
             "ticks": ""
            },
            "type": "choropleth"
           }
          ],
          "contour": [
           {
            "colorbar": {
             "outlinewidth": 0,
             "ticks": ""
            },
            "colorscale": [
             [
              0,
              "#0d0887"
             ],
             [
              0.1111111111111111,
              "#46039f"
             ],
             [
              0.2222222222222222,
              "#7201a8"
             ],
             [
              0.3333333333333333,
              "#9c179e"
             ],
             [
              0.4444444444444444,
              "#bd3786"
             ],
             [
              0.5555555555555556,
              "#d8576b"
             ],
             [
              0.6666666666666666,
              "#ed7953"
             ],
             [
              0.7777777777777778,
              "#fb9f3a"
             ],
             [
              0.8888888888888888,
              "#fdca26"
             ],
             [
              1,
              "#f0f921"
             ]
            ],
            "type": "contour"
           }
          ],
          "contourcarpet": [
           {
            "colorbar": {
             "outlinewidth": 0,
             "ticks": ""
            },
            "type": "contourcarpet"
           }
          ],
          "heatmap": [
           {
            "colorbar": {
             "outlinewidth": 0,
             "ticks": ""
            },
            "colorscale": [
             [
              0,
              "#0d0887"
             ],
             [
              0.1111111111111111,
              "#46039f"
             ],
             [
              0.2222222222222222,
              "#7201a8"
             ],
             [
              0.3333333333333333,
              "#9c179e"
             ],
             [
              0.4444444444444444,
              "#bd3786"
             ],
             [
              0.5555555555555556,
              "#d8576b"
             ],
             [
              0.6666666666666666,
              "#ed7953"
             ],
             [
              0.7777777777777778,
              "#fb9f3a"
             ],
             [
              0.8888888888888888,
              "#fdca26"
             ],
             [
              1,
              "#f0f921"
             ]
            ],
            "type": "heatmap"
           }
          ],
          "heatmapgl": [
           {
            "colorbar": {
             "outlinewidth": 0,
             "ticks": ""
            },
            "colorscale": [
             [
              0,
              "#0d0887"
             ],
             [
              0.1111111111111111,
              "#46039f"
             ],
             [
              0.2222222222222222,
              "#7201a8"
             ],
             [
              0.3333333333333333,
              "#9c179e"
             ],
             [
              0.4444444444444444,
              "#bd3786"
             ],
             [
              0.5555555555555556,
              "#d8576b"
             ],
             [
              0.6666666666666666,
              "#ed7953"
             ],
             [
              0.7777777777777778,
              "#fb9f3a"
             ],
             [
              0.8888888888888888,
              "#fdca26"
             ],
             [
              1,
              "#f0f921"
             ]
            ],
            "type": "heatmapgl"
           }
          ],
          "histogram": [
           {
            "marker": {
             "pattern": {
              "fillmode": "overlay",
              "size": 10,
              "solidity": 0.2
             }
            },
            "type": "histogram"
           }
          ],
          "histogram2d": [
           {
            "colorbar": {
             "outlinewidth": 0,
             "ticks": ""
            },
            "colorscale": [
             [
              0,
              "#0d0887"
             ],
             [
              0.1111111111111111,
              "#46039f"
             ],
             [
              0.2222222222222222,
              "#7201a8"
             ],
             [
              0.3333333333333333,
              "#9c179e"
             ],
             [
              0.4444444444444444,
              "#bd3786"
             ],
             [
              0.5555555555555556,
              "#d8576b"
             ],
             [
              0.6666666666666666,
              "#ed7953"
             ],
             [
              0.7777777777777778,
              "#fb9f3a"
             ],
             [
              0.8888888888888888,
              "#fdca26"
             ],
             [
              1,
              "#f0f921"
             ]
            ],
            "type": "histogram2d"
           }
          ],
          "histogram2dcontour": [
           {
            "colorbar": {
             "outlinewidth": 0,
             "ticks": ""
            },
            "colorscale": [
             [
              0,
              "#0d0887"
             ],
             [
              0.1111111111111111,
              "#46039f"
             ],
             [
              0.2222222222222222,
              "#7201a8"
             ],
             [
              0.3333333333333333,
              "#9c179e"
             ],
             [
              0.4444444444444444,
              "#bd3786"
             ],
             [
              0.5555555555555556,
              "#d8576b"
             ],
             [
              0.6666666666666666,
              "#ed7953"
             ],
             [
              0.7777777777777778,
              "#fb9f3a"
             ],
             [
              0.8888888888888888,
              "#fdca26"
             ],
             [
              1,
              "#f0f921"
             ]
            ],
            "type": "histogram2dcontour"
           }
          ],
          "mesh3d": [
           {
            "colorbar": {
             "outlinewidth": 0,
             "ticks": ""
            },
            "type": "mesh3d"
           }
          ],
          "parcoords": [
           {
            "line": {
             "colorbar": {
              "outlinewidth": 0,
              "ticks": ""
             }
            },
            "type": "parcoords"
           }
          ],
          "pie": [
           {
            "automargin": true,
            "type": "pie"
           }
          ],
          "scatter": [
           {
            "fillpattern": {
             "fillmode": "overlay",
             "size": 10,
             "solidity": 0.2
            },
            "type": "scatter"
           }
          ],
          "scatter3d": [
           {
            "line": {
             "colorbar": {
              "outlinewidth": 0,
              "ticks": ""
             }
            },
            "marker": {
             "colorbar": {
              "outlinewidth": 0,
              "ticks": ""
             }
            },
            "type": "scatter3d"
           }
          ],
          "scattercarpet": [
           {
            "marker": {
             "colorbar": {
              "outlinewidth": 0,
              "ticks": ""
             }
            },
            "type": "scattercarpet"
           }
          ],
          "scattergeo": [
           {
            "marker": {
             "colorbar": {
              "outlinewidth": 0,
              "ticks": ""
             }
            },
            "type": "scattergeo"
           }
          ],
          "scattergl": [
           {
            "marker": {
             "colorbar": {
              "outlinewidth": 0,
              "ticks": ""
             }
            },
            "type": "scattergl"
           }
          ],
          "scattermapbox": [
           {
            "marker": {
             "colorbar": {
              "outlinewidth": 0,
              "ticks": ""
             }
            },
            "type": "scattermapbox"
           }
          ],
          "scatterpolar": [
           {
            "marker": {
             "colorbar": {
              "outlinewidth": 0,
              "ticks": ""
             }
            },
            "type": "scatterpolar"
           }
          ],
          "scatterpolargl": [
           {
            "marker": {
             "colorbar": {
              "outlinewidth": 0,
              "ticks": ""
             }
            },
            "type": "scatterpolargl"
           }
          ],
          "scatterternary": [
           {
            "marker": {
             "colorbar": {
              "outlinewidth": 0,
              "ticks": ""
             }
            },
            "type": "scatterternary"
           }
          ],
          "surface": [
           {
            "colorbar": {
             "outlinewidth": 0,
             "ticks": ""
            },
            "colorscale": [
             [
              0,
              "#0d0887"
             ],
             [
              0.1111111111111111,
              "#46039f"
             ],
             [
              0.2222222222222222,
              "#7201a8"
             ],
             [
              0.3333333333333333,
              "#9c179e"
             ],
             [
              0.4444444444444444,
              "#bd3786"
             ],
             [
              0.5555555555555556,
              "#d8576b"
             ],
             [
              0.6666666666666666,
              "#ed7953"
             ],
             [
              0.7777777777777778,
              "#fb9f3a"
             ],
             [
              0.8888888888888888,
              "#fdca26"
             ],
             [
              1,
              "#f0f921"
             ]
            ],
            "type": "surface"
           }
          ],
          "table": [
           {
            "cells": {
             "fill": {
              "color": "#EBF0F8"
             },
             "line": {
              "color": "white"
             }
            },
            "header": {
             "fill": {
              "color": "#C8D4E3"
             },
             "line": {
              "color": "white"
             }
            },
            "type": "table"
           }
          ]
         },
         "layout": {
          "annotationdefaults": {
           "arrowcolor": "#2a3f5f",
           "arrowhead": 0,
           "arrowwidth": 1
          },
          "autotypenumbers": "strict",
          "coloraxis": {
           "colorbar": {
            "outlinewidth": 0,
            "ticks": ""
           }
          },
          "colorscale": {
           "diverging": [
            [
             0,
             "#8e0152"
            ],
            [
             0.1,
             "#c51b7d"
            ],
            [
             0.2,
             "#de77ae"
            ],
            [
             0.3,
             "#f1b6da"
            ],
            [
             0.4,
             "#fde0ef"
            ],
            [
             0.5,
             "#f7f7f7"
            ],
            [
             0.6,
             "#e6f5d0"
            ],
            [
             0.7,
             "#b8e186"
            ],
            [
             0.8,
             "#7fbc41"
            ],
            [
             0.9,
             "#4d9221"
            ],
            [
             1,
             "#276419"
            ]
           ],
           "sequential": [
            [
             0,
             "#0d0887"
            ],
            [
             0.1111111111111111,
             "#46039f"
            ],
            [
             0.2222222222222222,
             "#7201a8"
            ],
            [
             0.3333333333333333,
             "#9c179e"
            ],
            [
             0.4444444444444444,
             "#bd3786"
            ],
            [
             0.5555555555555556,
             "#d8576b"
            ],
            [
             0.6666666666666666,
             "#ed7953"
            ],
            [
             0.7777777777777778,
             "#fb9f3a"
            ],
            [
             0.8888888888888888,
             "#fdca26"
            ],
            [
             1,
             "#f0f921"
            ]
           ],
           "sequentialminus": [
            [
             0,
             "#0d0887"
            ],
            [
             0.1111111111111111,
             "#46039f"
            ],
            [
             0.2222222222222222,
             "#7201a8"
            ],
            [
             0.3333333333333333,
             "#9c179e"
            ],
            [
             0.4444444444444444,
             "#bd3786"
            ],
            [
             0.5555555555555556,
             "#d8576b"
            ],
            [
             0.6666666666666666,
             "#ed7953"
            ],
            [
             0.7777777777777778,
             "#fb9f3a"
            ],
            [
             0.8888888888888888,
             "#fdca26"
            ],
            [
             1,
             "#f0f921"
            ]
           ]
          },
          "colorway": [
           "#636efa",
           "#EF553B",
           "#00cc96",
           "#ab63fa",
           "#FFA15A",
           "#19d3f3",
           "#FF6692",
           "#B6E880",
           "#FF97FF",
           "#FECB52"
          ],
          "font": {
           "color": "#2a3f5f"
          },
          "geo": {
           "bgcolor": "white",
           "lakecolor": "white",
           "landcolor": "#E5ECF6",
           "showlakes": true,
           "showland": true,
           "subunitcolor": "white"
          },
          "hoverlabel": {
           "align": "left"
          },
          "hovermode": "closest",
          "mapbox": {
           "style": "light"
          },
          "paper_bgcolor": "white",
          "plot_bgcolor": "#E5ECF6",
          "polar": {
           "angularaxis": {
            "gridcolor": "white",
            "linecolor": "white",
            "ticks": ""
           },
           "bgcolor": "#E5ECF6",
           "radialaxis": {
            "gridcolor": "white",
            "linecolor": "white",
            "ticks": ""
           }
          },
          "scene": {
           "xaxis": {
            "backgroundcolor": "#E5ECF6",
            "gridcolor": "white",
            "gridwidth": 2,
            "linecolor": "white",
            "showbackground": true,
            "ticks": "",
            "zerolinecolor": "white"
           },
           "yaxis": {
            "backgroundcolor": "#E5ECF6",
            "gridcolor": "white",
            "gridwidth": 2,
            "linecolor": "white",
            "showbackground": true,
            "ticks": "",
            "zerolinecolor": "white"
           },
           "zaxis": {
            "backgroundcolor": "#E5ECF6",
            "gridcolor": "white",
            "gridwidth": 2,
            "linecolor": "white",
            "showbackground": true,
            "ticks": "",
            "zerolinecolor": "white"
           }
          },
          "shapedefaults": {
           "line": {
            "color": "#2a3f5f"
           }
          },
          "ternary": {
           "aaxis": {
            "gridcolor": "white",
            "linecolor": "white",
            "ticks": ""
           },
           "baxis": {
            "gridcolor": "white",
            "linecolor": "white",
            "ticks": ""
           },
           "bgcolor": "#E5ECF6",
           "caxis": {
            "gridcolor": "white",
            "linecolor": "white",
            "ticks": ""
           }
          },
          "title": {
           "x": 0.05
          },
          "xaxis": {
           "automargin": true,
           "gridcolor": "white",
           "linecolor": "white",
           "ticks": "",
           "title": {
            "standoff": 15
           },
           "zerolinecolor": "white",
           "zerolinewidth": 2
          },
          "yaxis": {
           "automargin": true,
           "gridcolor": "white",
           "linecolor": "white",
           "ticks": "",
           "title": {
            "standoff": 15
           },
           "zerolinecolor": "white",
           "zerolinewidth": 2
          }
         }
        },
        "title": {
         "text": "Влияние прохождения этапа обучения на скорость прохождения игры"
        },
        "width": 1000,
        "xaxis": {
         "anchor": "y",
         "domain": [
          0,
          1
         ],
         "title": {
          "text": "group"
         }
        },
        "yaxis": {
         "anchor": "x",
         "domain": [
          0,
          1
         ],
         "title": {
          "text": "delta_all_time"
         }
        }
       }
      }
     },
     "metadata": {},
     "output_type": "display_data"
    }
   ],
   "source": [
    "fig = px.bar(\n",
    "    data_frame=user_group,\n",
    "    x=\"group\",\n",
    "    y=\"delta_all_time\",\n",
    "    text = 'delta_all_time',\n",
    "    orientation='v',\n",
    "    height=500,\n",
    "    width=1000,\n",
    "    title='Влияние прохождения этапа обучения на скорость прохождения игры'\n",
    ")\n",
    "fig.show()"
   ]
  },
  {
   "attachments": {},
   "cell_type": "markdown",
   "metadata": {},
   "source": [
    "### ВЫВОД: \n",
    "#### успешное обучение приближает пользователя к покупке.\n",
    "- быстрее всего покупку совершают пользователи, которые успешно завершили обучение (они переходят к покупке примерно на 5 часов быстрее, чем пользователи, которые начали, но не завершили обучение, и на 8,6 часов быстрее, чем пользователи, которые не начинали обучение);\n",
    "- у пользователей, которые начали обучение, но не завершили его, тратят больше времени до совершения покупки (около 5 часов, по сравнению с пользователями, которые завершили обучение). Но все же они совешают покупку быстрее, чем пользователи, которые не начинали обучение (разница во времени 3,5 часа);\n",
    "- дольше всего к этапу покупки подходят пользователи, кторые не начинали обучение.\n"
   ]
  },
  {
   "attachments": {},
   "cell_type": "markdown",
   "metadata": {},
   "source": [
    "## Проверяем гипотезу № 2\n",
    "- Верно ли, что повторное прохождение обучения положительно влияет на оплату (существует ли зависимость между вероятностью оплаты вопросов и количеством обучений, которые начинал или завершал пользователь.)?\n",
    "\n"
   ]
  },
  {
   "attachments": {},
   "cell_type": "markdown",
   "metadata": {},
   "source": [
    "Формируем DataFrame по количеству начинаний обучений "
   ]
  },
  {
   "cell_type": "code",
   "execution_count": 15,
   "metadata": {},
   "outputs": [],
   "source": [
    "count_start = total_events_df[total_events_df['event_type'] == 'tutorial_start'].groupby(by='user_id', as_index = False)['event_type'].count()\n",
    "count_start = count_start.rename(columns={'event_type':'count_start'})"
   ]
  },
  {
   "attachments": {},
   "cell_type": "markdown",
   "metadata": {},
   "source": [
    "Формируем DataFrame по количеству завершений обучений "
   ]
  },
  {
   "cell_type": "code",
   "execution_count": 16,
   "metadata": {},
   "outputs": [],
   "source": [
    "count_finish = total_events_df[total_events_df['event_type'] == 'tutorial_finish'].groupby(by='user_id', as_index = False)['event_type'].count()\n",
    "count_finish = count_finish.rename(columns={'event_type':'count_finish'})"
   ]
  },
  {
   "attachments": {},
   "cell_type": "markdown",
   "metadata": {},
   "source": [
    "Формируем DataFrame по количеству оплат"
   ]
  },
  {
   "cell_type": "code",
   "execution_count": 17,
   "metadata": {},
   "outputs": [],
   "source": [
    "clients_df = total_events_df[total_events_df['event_type'] == 'purchase'].groupby(by='user_id', as_index = False)['amount'].count()\n"
   ]
  },
  {
   "attachments": {},
   "cell_type": "markdown",
   "metadata": {},
   "source": [
    "Объеденяем DataFrame count_start и count_finish в промежуточный DataFrame merged_1"
   ]
  },
  {
   "cell_type": "code",
   "execution_count": 18,
   "metadata": {},
   "outputs": [],
   "source": [
    "merged_1 = count_start.merge(\n",
    "    count_finish, \n",
    "    on='user_id',\n",
    "    how='left'\n",
    ")"
   ]
  },
  {
   "attachments": {},
   "cell_type": "markdown",
   "metadata": {},
   "source": [
    "Объеденяем DataFrame merged_1 и clients_df в итоговый DataFrame conversion_df\n"
   ]
  },
  {
   "cell_type": "code",
   "execution_count": 19,
   "metadata": {},
   "outputs": [],
   "source": [
    "conversion_df = merged_1.merge(\n",
    "    clients_df, \n",
    "    on='user_id',\n",
    "    how='left'\n",
    ")\n",
    "conversion_df['count_finish'] = pd.to_numeric(conversion_df['count_finish'], errors='coerce').fillna(0).astype('int64')"
   ]
  },
  {
   "attachments": {},
   "cell_type": "markdown",
   "metadata": {},
   "source": [
    "Строим графики:\n",
    "- зависимость оплат от попыток прохождения обучения\n",
    "- зависимость оплат от количества окончаний обучения"
   ]
  },
  {
   "cell_type": "code",
   "execution_count": 20,
   "metadata": {},
   "outputs": [
    {
     "name": "stderr",
     "output_type": "stream",
     "text": [
      "C:\\Users\\Евгения\\AppData\\Local\\Temp\\ipykernel_10852\\1082318394.py:22: UserWarning:\n",
      "\n",
      "Matplotlib is currently using module://matplotlib_inline.backend_inline, which is a non-GUI backend, so cannot show the figure.\n",
      "\n"
     ]
    },
    {
     "data": {
      "image/png": "[encoded data removed]",
      "text/plain": [
       "<Figure size 1500x500 with 2 Axes>"
      ]
     },
     "metadata": {},
     "output_type": "display_data"
    }
   ],
   "source": [
    "fig, axes = plt.subplots(nrows=1, ncols=2, figsize=(15, 5))\n",
    "# gthdsq uhfabr\n",
    "barplot1 = sns.barplot(\n",
    "    data = conversion_df,\n",
    "    x = 'count_start',\n",
    "    y = 'amount',\n",
    "    estimator = 'sum',\n",
    "    ax = axes[0]\n",
    ")\n",
    "axes[0].set_title('Зависимость оплат от попыток прохождения обучения')\n",
    "\n",
    "barplot2 = sns.barplot(\n",
    "    data = conversion_df,\n",
    "    x = 'count_finish',\n",
    "    y = 'amount',\n",
    "    estimator = 'sum',\n",
    "    ax = axes[1]\n",
    ")\n",
    "axes[1].set_title('Зависимость оплат от количества окончаний обучения')\n",
    "\n",
    "\n",
    "fig.show()"
   ]
  },
  {
   "attachments": {},
   "cell_type": "markdown",
   "metadata": {},
   "source": [
    "Формируем DataFrame по количеству \"ничинаний\" обучений"
   ]
  },
  {
   "cell_type": "code",
   "execution_count": 21,
   "metadata": {},
   "outputs": [
    {
     "name": "stderr",
     "output_type": "stream",
     "text": [
      "C:\\Users\\Евгения\\AppData\\Local\\Temp\\ipykernel_10852\\345864991.py:1: FutureWarning:\n",
      "\n",
      "Indexing with multiple keys (implicitly converted to a tuple of keys) will be deprecated, use a list instead.\n",
      "\n"
     ]
    }
   ],
   "source": [
    "count_start = conversion_df.groupby('count_start', as_index = False)['user_id','amount'].count()\n",
    "count_start = count_start.rename(columns={'count_start':'count_attempt','amount':'amount_start','user_id':'user_id_start'})"
   ]
  },
  {
   "attachments": {},
   "cell_type": "markdown",
   "metadata": {},
   "source": [
    "Формируем DataFrame по количеству окончаний обучений"
   ]
  },
  {
   "cell_type": "code",
   "execution_count": 22,
   "metadata": {},
   "outputs": [
    {
     "name": "stderr",
     "output_type": "stream",
     "text": [
      "C:\\Users\\Евгения\\AppData\\Local\\Temp\\ipykernel_10852\\454565653.py:1: FutureWarning:\n",
      "\n",
      "Indexing with multiple keys (implicitly converted to a tuple of keys) will be deprecated, use a list instead.\n",
      "\n"
     ]
    }
   ],
   "source": [
    "count_finish = conversion_df.groupby('count_finish', as_index = False)['user_id','amount'].count()\n",
    "count_finish = count_finish.rename(columns={'count_finish':'count_attempt', 'amount':'amount_finish','user_id':'user_id_finish'})"
   ]
  },
  {
   "attachments": {},
   "cell_type": "markdown",
   "metadata": {},
   "source": [
    "Объеденяем DataFrame по количеству \"ничинаний\" обучений и количеству окончаний обучений"
   ]
  },
  {
   "cell_type": "code",
   "execution_count": 23,
   "metadata": {},
   "outputs": [],
   "source": [
    "conversion_df_2 = count_finish.merge(\n",
    "    count_start, \n",
    "    on='count_attempt',\n",
    "    how='left'\n",
    ")\n",
    "conversion_df_2['amount_start'] = conversion_df_2['amount_start'].fillna(0).astype('int64')"
   ]
  },
  {
   "attachments": {},
   "cell_type": "markdown",
   "metadata": {},
   "source": [
    "Расчитываем конверсию:\n",
    "- для группы по количеству \"начинаний\" обучений (добавляем в DF признак conversion_start);\n",
    "- для группы по количеству завершений обучений (добавляем в DF признак conversion_finish)"
   ]
  },
  {
   "cell_type": "code",
   "execution_count": 24,
   "metadata": {},
   "outputs": [
    {
     "data": {
      "text/html": [
       "<div>\n",
       "<style scoped>\n",
       "    .dataframe tbody tr th:only-of-type {\n",
       "        vertical-align: middle;\n",
       "    }\n",
       "\n",
       "    .dataframe tbody tr th {\n",
       "        vertical-align: top;\n",
       "    }\n",
       "\n",
       "    .dataframe thead th {\n",
       "        text-align: right;\n",
       "    }\n",
       "</style>\n",
       "<table border=\"1\" class=\"dataframe\">\n",
       "  <thead>\n",
       "    <tr style=\"text-align: right;\">\n",
       "      <th></th>\n",
       "      <th>count_attempt</th>\n",
       "      <th>user_id_finish</th>\n",
       "      <th>amount_finish</th>\n",
       "      <th>user_id_start</th>\n",
       "      <th>amount_start</th>\n",
       "      <th>conversion_finish</th>\n",
       "      <th>conversion_start</th>\n",
       "    </tr>\n",
       "  </thead>\n",
       "  <tbody>\n",
       "    <tr>\n",
       "      <th>0</th>\n",
       "      <td>0</td>\n",
       "      <td>1608</td>\n",
       "      <td>131</td>\n",
       "      <td>NaN</td>\n",
       "      <td>0</td>\n",
       "      <td>8.15</td>\n",
       "      <td>NaN</td>\n",
       "    </tr>\n",
       "    <tr>\n",
       "      <th>1</th>\n",
       "      <td>1</td>\n",
       "      <td>8015</td>\n",
       "      <td>1143</td>\n",
       "      <td>9103.0</td>\n",
       "      <td>1207</td>\n",
       "      <td>14.26</td>\n",
       "      <td>13.26</td>\n",
       "    </tr>\n",
       "    <tr>\n",
       "      <th>2</th>\n",
       "      <td>2</td>\n",
       "      <td>1321</td>\n",
       "      <td>182</td>\n",
       "      <td>1589.0</td>\n",
       "      <td>218</td>\n",
       "      <td>13.78</td>\n",
       "      <td>13.72</td>\n",
       "    </tr>\n",
       "    <tr>\n",
       "      <th>3</th>\n",
       "      <td>3</td>\n",
       "      <td>345</td>\n",
       "      <td>44</td>\n",
       "      <td>427.0</td>\n",
       "      <td>51</td>\n",
       "      <td>12.75</td>\n",
       "      <td>11.94</td>\n",
       "    </tr>\n",
       "    <tr>\n",
       "      <th>4</th>\n",
       "      <td>4</td>\n",
       "      <td>178</td>\n",
       "      <td>19</td>\n",
       "      <td>221.0</td>\n",
       "      <td>30</td>\n",
       "      <td>10.67</td>\n",
       "      <td>13.57</td>\n",
       "    </tr>\n",
       "    <tr>\n",
       "      <th>5</th>\n",
       "      <td>5</td>\n",
       "      <td>117</td>\n",
       "      <td>19</td>\n",
       "      <td>109.0</td>\n",
       "      <td>16</td>\n",
       "      <td>16.24</td>\n",
       "      <td>14.68</td>\n",
       "    </tr>\n",
       "    <tr>\n",
       "      <th>6</th>\n",
       "      <td>6</td>\n",
       "      <td>101</td>\n",
       "      <td>15</td>\n",
       "      <td>116.0</td>\n",
       "      <td>14</td>\n",
       "      <td>14.85</td>\n",
       "      <td>12.07</td>\n",
       "    </tr>\n",
       "    <tr>\n",
       "      <th>7</th>\n",
       "      <td>7</td>\n",
       "      <td>97</td>\n",
       "      <td>15</td>\n",
       "      <td>94.0</td>\n",
       "      <td>12</td>\n",
       "      <td>15.46</td>\n",
       "      <td>12.77</td>\n",
       "    </tr>\n",
       "    <tr>\n",
       "      <th>8</th>\n",
       "      <td>8</td>\n",
       "      <td>54</td>\n",
       "      <td>6</td>\n",
       "      <td>86.0</td>\n",
       "      <td>13</td>\n",
       "      <td>11.11</td>\n",
       "      <td>15.12</td>\n",
       "    </tr>\n",
       "    <tr>\n",
       "      <th>9</th>\n",
       "      <td>9</td>\n",
       "      <td>22</td>\n",
       "      <td>4</td>\n",
       "      <td>113.0</td>\n",
       "      <td>17</td>\n",
       "      <td>18.18</td>\n",
       "      <td>15.04</td>\n",
       "    </tr>\n",
       "  </tbody>\n",
       "</table>\n",
       "</div>"
      ],
      "text/plain": [
       "   count_attempt  user_id_finish  amount_finish  user_id_start  amount_start  \\\n",
       "0              0            1608            131            NaN             0   \n",
       "1              1            8015           1143         9103.0          1207   \n",
       "2              2            1321            182         1589.0           218   \n",
       "3              3             345             44          427.0            51   \n",
       "4              4             178             19          221.0            30   \n",
       "5              5             117             19          109.0            16   \n",
       "6              6             101             15          116.0            14   \n",
       "7              7              97             15           94.0            12   \n",
       "8              8              54              6           86.0            13   \n",
       "9              9              22              4          113.0            17   \n",
       "\n",
       "   conversion_finish  conversion_start  \n",
       "0               8.15               NaN  \n",
       "1              14.26             13.26  \n",
       "2              13.78             13.72  \n",
       "3              12.75             11.94  \n",
       "4              10.67             13.57  \n",
       "5              16.24             14.68  \n",
       "6              14.85             12.07  \n",
       "7              15.46             12.77  \n",
       "8              11.11             15.12  \n",
       "9              18.18             15.04  "
      ]
     },
     "execution_count": 24,
     "metadata": {},
     "output_type": "execute_result"
    }
   ],
   "source": [
    "conversion_df_2['conversion_finish'] = (conversion_df_2['amount_finish']/conversion_df_2['user_id_finish']*100).round(2)\n",
    "conversion_df_2['conversion_start'] = (conversion_df_2['amount_start']/conversion_df_2['user_id_start']*100).round(2)\n",
    "conversion_df_2"
   ]
  },
  {
   "attachments": {},
   "cell_type": "markdown",
   "metadata": {},
   "source": [
    "Строим график сравнения конверсии по группам пользователей в зависимости от \"ничинаний\" и завершений обучений"
   ]
  },
  {
   "cell_type": "code",
   "execution_count": 25,
   "metadata": {},
   "outputs": [
    {
     "data": {
      "application/vnd.plotly.v1+json": {
       "config": {
        "plotlyServerURL": "https://plot.ly"
       },
       "data": [
        {
         "hovertemplate": "variable=conversion_start<br>count_attempt=%{x}<br>value=%{y}<extra></extra>",
         "legendgroup": "conversion_start",
         "line": {
          "color": "#636efa",
          "dash": "solid"
         },
         "marker": {
          "symbol": "circle"
         },
         "mode": "lines",
         "name": "conversion_start",
         "orientation": "v",
         "showlegend": true,
         "type": "scatter",
         "x": [
          0,
          1,
          2,
          3,
          4,
          5,
          6,
          7,
          8,
          9
         ],
         "xaxis": "x",
         "y": [
          null,
          13.26,
          13.72,
          11.94,
          13.57,
          14.68,
          12.07,
          12.77,
          15.12,
          15.04
         ],
         "yaxis": "y"
        },
        {
         "hovertemplate": "variable=conversion_finish<br>count_attempt=%{x}<br>value=%{y}<extra></extra>",
         "legendgroup": "conversion_finish",
         "line": {
          "color": "#EF553B",
          "dash": "solid"
         },
         "marker": {
          "symbol": "circle"
         },
         "mode": "lines",
         "name": "conversion_finish",
         "orientation": "v",
         "showlegend": true,
         "type": "scatter",
         "x": [
          0,
          1,
          2,
          3,
          4,
          5,
          6,
          7,
          8,
          9
         ],
         "xaxis": "x",
         "y": [
          8.15,
          14.26,
          13.78,
          12.75,
          10.67,
          16.24,
          14.85,
          15.46,
          11.11,
          18.18
         ],
         "yaxis": "y"
        }
       ],
       "layout": {
        "height": 500,
        "legend": {
         "title": {
          "text": "variable"
         },
         "tracegroupgap": 0
        },
        "template": {
         "data": {
          "bar": [
           {
            "error_x": {
             "color": "#2a3f5f"
            },
            "error_y": {
             "color": "#2a3f5f"
            },
            "marker": {
             "line": {
              "color": "#E5ECF6",
              "width": 0.5
             },
             "pattern": {
              "fillmode": "overlay",
              "size": 10,
              "solidity": 0.2
             }
            },
            "type": "bar"
           }
          ],
          "barpolar": [
           {
            "marker": {
             "line": {
              "color": "#E5ECF6",
              "width": 0.5
             },
             "pattern": {
              "fillmode": "overlay",
              "size": 10,
              "solidity": 0.2
             }
            },
            "type": "barpolar"
           }
          ],
          "carpet": [
           {
            "aaxis": {
             "endlinecolor": "#2a3f5f",
             "gridcolor": "white",
             "linecolor": "white",
             "minorgridcolor": "white",
             "startlinecolor": "#2a3f5f"
            },
            "baxis": {
             "endlinecolor": "#2a3f5f",
             "gridcolor": "white",
             "linecolor": "white",
             "minorgridcolor": "white",
             "startlinecolor": "#2a3f5f"
            },
            "type": "carpet"
           }
          ],
          "choropleth": [
           {
            "colorbar": {
             "outlinewidth": 0,
             "ticks": ""
            },
            "type": "choropleth"
           }
          ],
          "contour": [
           {
            "colorbar": {
             "outlinewidth": 0,
             "ticks": ""
            },
            "colorscale": [
             [
              0,
              "#0d0887"
             ],
             [
              0.1111111111111111,
              "#46039f"
             ],
             [
              0.2222222222222222,
              "#7201a8"
             ],
             [
              0.3333333333333333,
              "#9c179e"
             ],
             [
              0.4444444444444444,
              "#bd3786"
             ],
             [
              0.5555555555555556,
              "#d8576b"
             ],
             [
              0.6666666666666666,
              "#ed7953"
             ],
             [
              0.7777777777777778,
              "#fb9f3a"
             ],
             [
              0.8888888888888888,
              "#fdca26"
             ],
             [
              1,
              "#f0f921"
             ]
            ],
            "type": "contour"
           }
          ],
          "contourcarpet": [
           {
            "colorbar": {
             "outlinewidth": 0,
             "ticks": ""
            },
            "type": "contourcarpet"
           }
          ],
          "heatmap": [
           {
            "colorbar": {
             "outlinewidth": 0,
             "ticks": ""
            },
            "colorscale": [
             [
              0,
              "#0d0887"
             ],
             [
              0.1111111111111111,
              "#46039f"
             ],
             [
              0.2222222222222222,
              "#7201a8"
             ],
             [
              0.3333333333333333,
              "#9c179e"
             ],
             [
              0.4444444444444444,
              "#bd3786"
             ],
             [
              0.5555555555555556,
              "#d8576b"
             ],
             [
              0.6666666666666666,
              "#ed7953"
             ],
             [
              0.7777777777777778,
              "#fb9f3a"
             ],
             [
              0.8888888888888888,
              "#fdca26"
             ],
             [
              1,
              "#f0f921"
             ]
            ],
            "type": "heatmap"
           }
          ],
          "heatmapgl": [
           {
            "colorbar": {
             "outlinewidth": 0,
             "ticks": ""
            },
            "colorscale": [
             [
              0,
              "#0d0887"
             ],
             [
              0.1111111111111111,
              "#46039f"
             ],
             [
              0.2222222222222222,
              "#7201a8"
             ],
             [
              0.3333333333333333,
              "#9c179e"
             ],
             [
              0.4444444444444444,
              "#bd3786"
             ],
             [
              0.5555555555555556,
              "#d8576b"
             ],
             [
              0.6666666666666666,
              "#ed7953"
             ],
             [
              0.7777777777777778,
              "#fb9f3a"
             ],
             [
              0.8888888888888888,
              "#fdca26"
             ],
             [
              1,
              "#f0f921"
             ]
            ],
            "type": "heatmapgl"
           }
          ],
          "histogram": [
           {
            "marker": {
             "pattern": {
              "fillmode": "overlay",
              "size": 10,
              "solidity": 0.2
             }
            },
            "type": "histogram"
           }
          ],
          "histogram2d": [
           {
            "colorbar": {
             "outlinewidth": 0,
             "ticks": ""
            },
            "colorscale": [
             [
              0,
              "#0d0887"
             ],
             [
              0.1111111111111111,
              "#46039f"
             ],
             [
              0.2222222222222222,
              "#7201a8"
             ],
             [
              0.3333333333333333,
              "#9c179e"
             ],
             [
              0.4444444444444444,
              "#bd3786"
             ],
             [
              0.5555555555555556,
              "#d8576b"
             ],
             [
              0.6666666666666666,
              "#ed7953"
             ],
             [
              0.7777777777777778,
              "#fb9f3a"
             ],
             [
              0.8888888888888888,
              "#fdca26"
             ],
             [
              1,
              "#f0f921"
             ]
            ],
            "type": "histogram2d"
           }
          ],
          "histogram2dcontour": [
           {
            "colorbar": {
             "outlinewidth": 0,
             "ticks": ""
            },
            "colorscale": [
             [
              0,
              "#0d0887"
             ],
             [
              0.1111111111111111,
              "#46039f"
             ],
             [
              0.2222222222222222,
              "#7201a8"
             ],
             [
              0.3333333333333333,
              "#9c179e"
             ],
             [
              0.4444444444444444,
              "#bd3786"
             ],
             [
              0.5555555555555556,
              "#d8576b"
             ],
             [
              0.6666666666666666,
              "#ed7953"
             ],
             [
              0.7777777777777778,
              "#fb9f3a"
             ],
             [
              0.8888888888888888,
              "#fdca26"
             ],
             [
              1,
              "#f0f921"
             ]
            ],
            "type": "histogram2dcontour"
           }
          ],
          "mesh3d": [
           {
            "colorbar": {
             "outlinewidth": 0,
             "ticks": ""
            },
            "type": "mesh3d"
           }
          ],
          "parcoords": [
           {
            "line": {
             "colorbar": {
              "outlinewidth": 0,
              "ticks": ""
             }
            },
            "type": "parcoords"
           }
          ],
          "pie": [
           {
            "automargin": true,
            "type": "pie"
           }
          ],
          "scatter": [
           {
            "fillpattern": {
             "fillmode": "overlay",
             "size": 10,
             "solidity": 0.2
            },
            "type": "scatter"
           }
          ],
          "scatter3d": [
           {
            "line": {
             "colorbar": {
              "outlinewidth": 0,
              "ticks": ""
             }
            },
            "marker": {
             "colorbar": {
              "outlinewidth": 0,
              "ticks": ""
             }
            },
            "type": "scatter3d"
           }
          ],
          "scattercarpet": [
           {
            "marker": {
             "colorbar": {
              "outlinewidth": 0,
              "ticks": ""
             }
            },
            "type": "scattercarpet"
           }
          ],
          "scattergeo": [
           {
            "marker": {
             "colorbar": {
              "outlinewidth": 0,
              "ticks": ""
             }
            },
            "type": "scattergeo"
           }
          ],
          "scattergl": [
           {
            "marker": {
             "colorbar": {
              "outlinewidth": 0,
              "ticks": ""
             }
            },
            "type": "scattergl"
           }
          ],
          "scattermapbox": [
           {
            "marker": {
             "colorbar": {
              "outlinewidth": 0,
              "ticks": ""
             }
            },
            "type": "scattermapbox"
           }
          ],
          "scatterpolar": [
           {
            "marker": {
             "colorbar": {
              "outlinewidth": 0,
              "ticks": ""
             }
            },
            "type": "scatterpolar"
           }
          ],
          "scatterpolargl": [
           {
            "marker": {
             "colorbar": {
              "outlinewidth": 0,
              "ticks": ""
             }
            },
            "type": "scatterpolargl"
           }
          ],
          "scatterternary": [
           {
            "marker": {
             "colorbar": {
              "outlinewidth": 0,
              "ticks": ""
             }
            },
            "type": "scatterternary"
           }
          ],
          "surface": [
           {
            "colorbar": {
             "outlinewidth": 0,
             "ticks": ""
            },
            "colorscale": [
             [
              0,
              "#0d0887"
             ],
             [
              0.1111111111111111,
              "#46039f"
             ],
             [
              0.2222222222222222,
              "#7201a8"
             ],
             [
              0.3333333333333333,
              "#9c179e"
             ],
             [
              0.4444444444444444,
              "#bd3786"
             ],
             [
              0.5555555555555556,
              "#d8576b"
             ],
             [
              0.6666666666666666,
              "#ed7953"
             ],
             [
              0.7777777777777778,
              "#fb9f3a"
             ],
             [
              0.8888888888888888,
              "#fdca26"
             ],
             [
              1,
              "#f0f921"
             ]
            ],
            "type": "surface"
           }
          ],
          "table": [
           {
            "cells": {
             "fill": {
              "color": "#EBF0F8"
             },
             "line": {
              "color": "white"
             }
            },
            "header": {
             "fill": {
              "color": "#C8D4E3"
             },
             "line": {
              "color": "white"
             }
            },
            "type": "table"
           }
          ]
         },
         "layout": {
          "annotationdefaults": {
           "arrowcolor": "#2a3f5f",
           "arrowhead": 0,
           "arrowwidth": 1
          },
          "autotypenumbers": "strict",
          "coloraxis": {
           "colorbar": {
            "outlinewidth": 0,
            "ticks": ""
           }
          },
          "colorscale": {
           "diverging": [
            [
             0,
             "#8e0152"
            ],
            [
             0.1,
             "#c51b7d"
            ],
            [
             0.2,
             "#de77ae"
            ],
            [
             0.3,
             "#f1b6da"
            ],
            [
             0.4,
             "#fde0ef"
            ],
            [
             0.5,
             "#f7f7f7"
            ],
            [
             0.6,
             "#e6f5d0"
            ],
            [
             0.7,
             "#b8e186"
            ],
            [
             0.8,
             "#7fbc41"
            ],
            [
             0.9,
             "#4d9221"
            ],
            [
             1,
             "#276419"
            ]
           ],
           "sequential": [
            [
             0,
             "#0d0887"
            ],
            [
             0.1111111111111111,
             "#46039f"
            ],
            [
             0.2222222222222222,
             "#7201a8"
            ],
            [
             0.3333333333333333,
             "#9c179e"
            ],
            [
             0.4444444444444444,
             "#bd3786"
            ],
            [
             0.5555555555555556,
             "#d8576b"
            ],
            [
             0.6666666666666666,
             "#ed7953"
            ],
            [
             0.7777777777777778,
             "#fb9f3a"
            ],
            [
             0.8888888888888888,
             "#fdca26"
            ],
            [
             1,
             "#f0f921"
            ]
           ],
           "sequentialminus": [
            [
             0,
             "#0d0887"
            ],
            [
             0.1111111111111111,
             "#46039f"
            ],
            [
             0.2222222222222222,
             "#7201a8"
            ],
            [
             0.3333333333333333,
             "#9c179e"
            ],
            [
             0.4444444444444444,
             "#bd3786"
            ],
            [
             0.5555555555555556,
             "#d8576b"
            ],
            [
             0.6666666666666666,
             "#ed7953"
            ],
            [
             0.7777777777777778,
             "#fb9f3a"
            ],
            [
             0.8888888888888888,
             "#fdca26"
            ],
            [
             1,
             "#f0f921"
            ]
           ]
          },
          "colorway": [
           "#636efa",
           "#EF553B",
           "#00cc96",
           "#ab63fa",
           "#FFA15A",
           "#19d3f3",
           "#FF6692",
           "#B6E880",
           "#FF97FF",
           "#FECB52"
          ],
          "font": {
           "color": "#2a3f5f"
          },
          "geo": {
           "bgcolor": "white",
           "lakecolor": "white",
           "landcolor": "#E5ECF6",
           "showlakes": true,
           "showland": true,
           "subunitcolor": "white"
          },
          "hoverlabel": {
           "align": "left"
          },
          "hovermode": "closest",
          "mapbox": {
           "style": "light"
          },
          "paper_bgcolor": "white",
          "plot_bgcolor": "#E5ECF6",
          "polar": {
           "angularaxis": {
            "gridcolor": "white",
            "linecolor": "white",
            "ticks": ""
           },
           "bgcolor": "#E5ECF6",
           "radialaxis": {
            "gridcolor": "white",
            "linecolor": "white",
            "ticks": ""
           }
          },
          "scene": {
           "xaxis": {
            "backgroundcolor": "#E5ECF6",
            "gridcolor": "white",
            "gridwidth": 2,
            "linecolor": "white",
            "showbackground": true,
            "ticks": "",
            "zerolinecolor": "white"
           },
           "yaxis": {
            "backgroundcolor": "#E5ECF6",
            "gridcolor": "white",
            "gridwidth": 2,
            "linecolor": "white",
            "showbackground": true,
            "ticks": "",
            "zerolinecolor": "white"
           },
           "zaxis": {
            "backgroundcolor": "#E5ECF6",
            "gridcolor": "white",
            "gridwidth": 2,
            "linecolor": "white",
            "showbackground": true,
            "ticks": "",
            "zerolinecolor": "white"
           }
          },
          "shapedefaults": {
           "line": {
            "color": "#2a3f5f"
           }
          },
          "ternary": {
           "aaxis": {
            "gridcolor": "white",
            "linecolor": "white",
            "ticks": ""
           },
           "baxis": {
            "gridcolor": "white",
            "linecolor": "white",
            "ticks": ""
           },
           "bgcolor": "#E5ECF6",
           "caxis": {
            "gridcolor": "white",
            "linecolor": "white",
            "ticks": ""
           }
          },
          "title": {
           "x": 0.05
          },
          "xaxis": {
           "automargin": true,
           "gridcolor": "white",
           "linecolor": "white",
           "ticks": "",
           "title": {
            "standoff": 15
           },
           "zerolinecolor": "white",
           "zerolinewidth": 2
          },
          "yaxis": {
           "automargin": true,
           "gridcolor": "white",
           "linecolor": "white",
           "ticks": "",
           "title": {
            "standoff": 15
           },
           "zerolinecolor": "white",
           "zerolinewidth": 2
          }
         }
        },
        "title": {
         "text": "Сравнение конверсии по группам пользователей"
        },
        "width": 1000,
        "xaxis": {
         "anchor": "y",
         "domain": [
          0,
          1
         ],
         "title": {
          "text": "count_attempt"
         }
        },
        "yaxis": {
         "anchor": "x",
         "domain": [
          0,
          1
         ],
         "title": {
          "text": "value"
         }
        }
       }
      }
     },
     "metadata": {},
     "output_type": "display_data"
    }
   ],
   "source": [
    "fig = px.line(\n",
    "    data_frame=conversion_df_2, \n",
    "    x='count_attempt', \n",
    "    y=['conversion_start', 'conversion_finish'], \n",
    "    height=500, \n",
    "    width=1000, \n",
    "    title='Сравнение конверсии по группам пользователей' \n",
    ")\n",
    "fig.show()"
   ]
  },
  {
   "attachments": {},
   "cell_type": "markdown",
   "metadata": {},
   "source": [
    "Считаем среднюю конверсию по группам"
   ]
  },
  {
   "cell_type": "code",
   "execution_count": 26,
   "metadata": {},
   "outputs": [
    {
     "name": "stdout",
     "output_type": "stream",
     "text": [
      "13.57\n",
      "13.54\n"
     ]
    }
   ],
   "source": [
    "print(conversion_df_2['conversion_start'].mean().round(2))\n",
    "print(conversion_df_2['conversion_finish'].mean().round(2))"
   ]
  },
  {
   "attachments": {},
   "cell_type": "markdown",
   "metadata": {},
   "source": [
    "### ВЫВОД: \n",
    "#### успешное обучение положительно влияет на оплату, не зависимо от попыток прохождения обучения;\n",
    "#### факт окончания или начала обучения значительно повышает вероятность оплаты\n",
    "- самая большая группа пользоватей, это те, кто начал или завершил обечение с первой попытки. Но конверсия в этой группе практически не отличается от групп с количеством попыток от 2-х до 9-ти.\n",
    "- около 8,15% пользователей, не закончивших обучение совершают покупку, в то время как средняя конвесия совершения покупки у пользователей начинавших, либо заканчивавших обучение на 60% выше(13.57 и 13.54%);\n",
    "- средняя конверсия в двух этих группах практически одинакова (13.57 и 13.54%). Но, если исключить из наблюдений пользователей, которые начали, но не закончили обучение, средняя конверсия совершения покупки выше в группе пользователей, которые окончили обучение."
   ]
  },
  {
   "attachments": {},
   "cell_type": "markdown",
   "metadata": {},
   "source": [
    "## Проверяем гипотезу № 3\n",
    "- Если пользователь сначала выбирает уровень сложности, будет ли он потом проходить обучение?\n",
    "### ЗАДАЧA\n",
    "\n",
    "Определить, насколько прозрачен процесс взаимодействия с игрой.\n",
    "\n",
    "### КОНКРЕТНЫЕ ШАГИ (ФОРМАЛИЗОВАННЫЕ ЗАДАЧИ)\n",
    "\n",
    "Выяснить, как часто пользователи начинают обучение после выбора уровня сложности. (Это позволит оценить прозрачность процесса взаимодействия с игрой: если пользователи после выбора уровня сложности обращаются к обучению, значит, работа с приложением непонятна.)"
   ]
  },
  {
   "attachments": {},
   "cell_type": "markdown",
   "metadata": {},
   "source": [
    "Формируем DataFrame, выбрав всех пользователей, для которых есть событие начала обучения (tutorial_start)\n",
    "\n",
    "Переименовываем столбцы\n",
    "\n",
    "Удаляем столбцы, которые нам не понабятся  в расчетах ('event_id', 'event_type','selected_level', 'tutorial_id', 'purchase_id', 'amount')"
   ]
  },
  {
   "cell_type": "code",
   "execution_count": 27,
   "metadata": {},
   "outputs": [],
   "source": [
    "tutorial_start_df = total_events_df[total_events_df['event_type'] == 'tutorial_start']\n",
    "tutorial_start_df = tutorial_start_df.rename(columns={'start_time':'tutorial_start_time'})\n",
    "tutorial_start_df = tutorial_start_df.drop(['event_id', 'event_type','selected_level', 'tutorial_id', 'purchase_id', 'amount'], axis=1)"
   ]
  },
  {
   "attachments": {},
   "cell_type": "markdown",
   "metadata": {},
   "source": [
    "Формируем DataFrame, выбрав всех пользователей, для которых есть событие начала обучения (level_choice)\n",
    "\n",
    "Переименовываем столбцы\n",
    "\n",
    "Удаляем столбцы, которые нам не понабятся  в расчетах ('event_id', 'event_type','selected_level', 'tutorial_id', 'purchase_id', 'amount')"
   ]
  },
  {
   "cell_type": "code",
   "execution_count": 28,
   "metadata": {},
   "outputs": [],
   "source": [
    "level_choice_df = total_events_df[total_events_df['event_type'] == 'level_choice']\n",
    "level_choice_df = level_choice_df.rename(columns={'start_time':'level_choice_start_time'})\n",
    "level_choice_df = level_choice_df.drop(['event_id', 'event_type','selected_level', 'tutorial_id', 'purchase_id', 'amount'], axis=1)"
   ]
  },
  {
   "attachments": {},
   "cell_type": "markdown",
   "metadata": {},
   "source": [
    "Объеденяем DF tutorial_start_df и level_choice_df"
   ]
  },
  {
   "cell_type": "code",
   "execution_count": 29,
   "metadata": {},
   "outputs": [
    {
     "data": {
      "text/html": [
       "<div>\n",
       "<style scoped>\n",
       "    .dataframe tbody tr th:only-of-type {\n",
       "        vertical-align: middle;\n",
       "    }\n",
       "\n",
       "    .dataframe tbody tr th {\n",
       "        vertical-align: top;\n",
       "    }\n",
       "\n",
       "    .dataframe thead th {\n",
       "        text-align: right;\n",
       "    }\n",
       "</style>\n",
       "<table border=\"1\" class=\"dataframe\">\n",
       "  <thead>\n",
       "    <tr style=\"text-align: right;\">\n",
       "      <th></th>\n",
       "      <th>tutorial_start_time</th>\n",
       "      <th>user_id</th>\n",
       "      <th>level_choice_start_time</th>\n",
       "    </tr>\n",
       "  </thead>\n",
       "  <tbody>\n",
       "    <tr>\n",
       "      <th>0</th>\n",
       "      <td>2018-01-01 15:00:51</td>\n",
       "      <td>27835</td>\n",
       "      <td>2018-01-01 20:37:22</td>\n",
       "    </tr>\n",
       "    <tr>\n",
       "      <th>1</th>\n",
       "      <td>2018-01-01 19:11:36</td>\n",
       "      <td>27839</td>\n",
       "      <td>2018-01-01 22:37:50</td>\n",
       "    </tr>\n",
       "    <tr>\n",
       "      <th>2</th>\n",
       "      <td>2018-01-02 02:07:07</td>\n",
       "      <td>27840</td>\n",
       "      <td>2018-01-02 05:18:42</td>\n",
       "    </tr>\n",
       "    <tr>\n",
       "      <th>3</th>\n",
       "      <td>2018-01-02 03:03:44</td>\n",
       "      <td>27845</td>\n",
       "      <td>2018-01-02 06:19:18</td>\n",
       "    </tr>\n",
       "    <tr>\n",
       "      <th>4</th>\n",
       "      <td>2018-01-02 07:08:00</td>\n",
       "      <td>27845</td>\n",
       "      <td>2018-01-02 06:19:18</td>\n",
       "    </tr>\n",
       "    <tr>\n",
       "      <th>...</th>\n",
       "      <td>...</td>\n",
       "      <td>...</td>\n",
       "      <td>...</td>\n",
       "    </tr>\n",
       "    <tr>\n",
       "      <th>12681</th>\n",
       "      <td>2018-12-31 07:14:38</td>\n",
       "      <td>47732</td>\n",
       "      <td>2018-12-31 09:59:00</td>\n",
       "    </tr>\n",
       "    <tr>\n",
       "      <th>12682</th>\n",
       "      <td>2018-12-31 10:21:11</td>\n",
       "      <td>47747</td>\n",
       "      <td>2018-12-31 12:24:40</td>\n",
       "    </tr>\n",
       "    <tr>\n",
       "      <th>12683</th>\n",
       "      <td>2018-12-31 20:54:56</td>\n",
       "      <td>47753</td>\n",
       "      <td>2018-12-31 22:36:19</td>\n",
       "    </tr>\n",
       "    <tr>\n",
       "      <th>12684</th>\n",
       "      <td>2019-01-01 00:08:14</td>\n",
       "      <td>47755</td>\n",
       "      <td>2019-01-01 05:04:52</td>\n",
       "    </tr>\n",
       "    <tr>\n",
       "      <th>12685</th>\n",
       "      <td>2019-01-01 03:26:18</td>\n",
       "      <td>47756</td>\n",
       "      <td>2019-01-01 05:42:11</td>\n",
       "    </tr>\n",
       "  </tbody>\n",
       "</table>\n",
       "<p>12686 rows × 3 columns</p>\n",
       "</div>"
      ],
      "text/plain": [
       "      tutorial_start_time  user_id level_choice_start_time\n",
       "0     2018-01-01 15:00:51    27835     2018-01-01 20:37:22\n",
       "1     2018-01-01 19:11:36    27839     2018-01-01 22:37:50\n",
       "2     2018-01-02 02:07:07    27840     2018-01-02 05:18:42\n",
       "3     2018-01-02 03:03:44    27845     2018-01-02 06:19:18\n",
       "4     2018-01-02 07:08:00    27845     2018-01-02 06:19:18\n",
       "...                   ...      ...                     ...\n",
       "12681 2018-12-31 07:14:38    47732     2018-12-31 09:59:00\n",
       "12682 2018-12-31 10:21:11    47747     2018-12-31 12:24:40\n",
       "12683 2018-12-31 20:54:56    47753     2018-12-31 22:36:19\n",
       "12684 2019-01-01 00:08:14    47755     2019-01-01 05:04:52\n",
       "12685 2019-01-01 03:26:18    47756     2019-01-01 05:42:11\n",
       "\n",
       "[12686 rows x 3 columns]"
      ]
     },
     "execution_count": 29,
     "metadata": {},
     "output_type": "execute_result"
    }
   ],
   "source": [
    "tutorial_start_level_choise_df = tutorial_start_df.merge(level_choice_df, on='user_id', how='inner')\n",
    "tutorial_start_level_choise_df"
   ]
  },
  {
   "attachments": {},
   "cell_type": "markdown",
   "metadata": {},
   "source": [
    "Находим разницу между событиями начала обучения и выбором уровня сложности:\n",
    "- если разница отрицательная, зачит пользователь сначала приступил к обучению, а затем выбрал уровень сложности;\n",
    "- если разница положительная, значит пользователь сначала выбрал уровень сложности, а затем вернулся к обучению"
   ]
  },
  {
   "cell_type": "code",
   "execution_count": 30,
   "metadata": {},
   "outputs": [
    {
     "data": {
      "text/html": [
       "<div>\n",
       "<style scoped>\n",
       "    .dataframe tbody tr th:only-of-type {\n",
       "        vertical-align: middle;\n",
       "    }\n",
       "\n",
       "    .dataframe tbody tr th {\n",
       "        vertical-align: top;\n",
       "    }\n",
       "\n",
       "    .dataframe thead th {\n",
       "        text-align: right;\n",
       "    }\n",
       "</style>\n",
       "<table border=\"1\" class=\"dataframe\">\n",
       "  <thead>\n",
       "    <tr style=\"text-align: right;\">\n",
       "      <th></th>\n",
       "      <th>tutorial_start_time</th>\n",
       "      <th>user_id</th>\n",
       "      <th>level_choice_start_time</th>\n",
       "      <th>time_delta</th>\n",
       "    </tr>\n",
       "  </thead>\n",
       "  <tbody>\n",
       "    <tr>\n",
       "      <th>0</th>\n",
       "      <td>2018-01-01 15:00:51</td>\n",
       "      <td>27835</td>\n",
       "      <td>2018-01-01 20:37:22</td>\n",
       "      <td>-1 days +18:23:29</td>\n",
       "    </tr>\n",
       "    <tr>\n",
       "      <th>1</th>\n",
       "      <td>2018-01-01 19:11:36</td>\n",
       "      <td>27839</td>\n",
       "      <td>2018-01-01 22:37:50</td>\n",
       "      <td>-1 days +20:33:46</td>\n",
       "    </tr>\n",
       "    <tr>\n",
       "      <th>2</th>\n",
       "      <td>2018-01-02 02:07:07</td>\n",
       "      <td>27840</td>\n",
       "      <td>2018-01-02 05:18:42</td>\n",
       "      <td>-1 days +20:48:25</td>\n",
       "    </tr>\n",
       "    <tr>\n",
       "      <th>3</th>\n",
       "      <td>2018-01-02 03:03:44</td>\n",
       "      <td>27845</td>\n",
       "      <td>2018-01-02 06:19:18</td>\n",
       "      <td>-1 days +20:44:26</td>\n",
       "    </tr>\n",
       "    <tr>\n",
       "      <th>4</th>\n",
       "      <td>2018-01-02 07:08:00</td>\n",
       "      <td>27845</td>\n",
       "      <td>2018-01-02 06:19:18</td>\n",
       "      <td>0 days 00:48:42</td>\n",
       "    </tr>\n",
       "    <tr>\n",
       "      <th>...</th>\n",
       "      <td>...</td>\n",
       "      <td>...</td>\n",
       "      <td>...</td>\n",
       "      <td>...</td>\n",
       "    </tr>\n",
       "    <tr>\n",
       "      <th>12681</th>\n",
       "      <td>2018-12-31 07:14:38</td>\n",
       "      <td>47732</td>\n",
       "      <td>2018-12-31 09:59:00</td>\n",
       "      <td>-1 days +21:15:38</td>\n",
       "    </tr>\n",
       "    <tr>\n",
       "      <th>12682</th>\n",
       "      <td>2018-12-31 10:21:11</td>\n",
       "      <td>47747</td>\n",
       "      <td>2018-12-31 12:24:40</td>\n",
       "      <td>-1 days +21:56:31</td>\n",
       "    </tr>\n",
       "    <tr>\n",
       "      <th>12683</th>\n",
       "      <td>2018-12-31 20:54:56</td>\n",
       "      <td>47753</td>\n",
       "      <td>2018-12-31 22:36:19</td>\n",
       "      <td>-1 days +22:18:37</td>\n",
       "    </tr>\n",
       "    <tr>\n",
       "      <th>12684</th>\n",
       "      <td>2019-01-01 00:08:14</td>\n",
       "      <td>47755</td>\n",
       "      <td>2019-01-01 05:04:52</td>\n",
       "      <td>-1 days +19:03:22</td>\n",
       "    </tr>\n",
       "    <tr>\n",
       "      <th>12685</th>\n",
       "      <td>2019-01-01 03:26:18</td>\n",
       "      <td>47756</td>\n",
       "      <td>2019-01-01 05:42:11</td>\n",
       "      <td>-1 days +21:44:07</td>\n",
       "    </tr>\n",
       "  </tbody>\n",
       "</table>\n",
       "<p>12686 rows × 4 columns</p>\n",
       "</div>"
      ],
      "text/plain": [
       "      tutorial_start_time  user_id level_choice_start_time        time_delta\n",
       "0     2018-01-01 15:00:51    27835     2018-01-01 20:37:22 -1 days +18:23:29\n",
       "1     2018-01-01 19:11:36    27839     2018-01-01 22:37:50 -1 days +20:33:46\n",
       "2     2018-01-02 02:07:07    27840     2018-01-02 05:18:42 -1 days +20:48:25\n",
       "3     2018-01-02 03:03:44    27845     2018-01-02 06:19:18 -1 days +20:44:26\n",
       "4     2018-01-02 07:08:00    27845     2018-01-02 06:19:18   0 days 00:48:42\n",
       "...                   ...      ...                     ...               ...\n",
       "12681 2018-12-31 07:14:38    47732     2018-12-31 09:59:00 -1 days +21:15:38\n",
       "12682 2018-12-31 10:21:11    47747     2018-12-31 12:24:40 -1 days +21:56:31\n",
       "12683 2018-12-31 20:54:56    47753     2018-12-31 22:36:19 -1 days +22:18:37\n",
       "12684 2019-01-01 00:08:14    47755     2019-01-01 05:04:52 -1 days +19:03:22\n",
       "12685 2019-01-01 03:26:18    47756     2019-01-01 05:42:11 -1 days +21:44:07\n",
       "\n",
       "[12686 rows x 4 columns]"
      ]
     },
     "execution_count": 30,
     "metadata": {},
     "output_type": "execute_result"
    }
   ],
   "source": [
    "tutorial_start_level_choise_df['time_delta'] = tutorial_start_level_choise_df['tutorial_start_time'] - tutorial_start_level_choise_df['level_choice_start_time']\n",
    "\n",
    "tutorial_start_level_choise_df"
   ]
  },
  {
   "attachments": {},
   "cell_type": "markdown",
   "metadata": {},
   "source": [
    "Находим пользователей, прошедших обучение после выбора уровня сложности"
   ]
  },
  {
   "cell_type": "code",
   "execution_count": 31,
   "metadata": {},
   "outputs": [
    {
     "data": {
      "text/plain": [
       "1386"
      ]
     },
     "execution_count": 31,
     "metadata": {},
     "output_type": "execute_result"
    }
   ],
   "source": [
    "users_tutorial_after_level_choice = tutorial_start_level_choise_df[tutorial_start_level_choise_df['time_delta']>'1 seconds']['user_id'].nunique()\n",
    "users_tutorial_after_level_choice "
   ]
  },
  {
   "attachments": {},
   "cell_type": "markdown",
   "metadata": {},
   "source": [
    "Находим пользователей, прошедших обучение до выбора уровня сложности"
   ]
  },
  {
   "cell_type": "code",
   "execution_count": 32,
   "metadata": {},
   "outputs": [
    {
     "data": {
      "text/plain": [
       "8244"
      ]
     },
     "execution_count": 32,
     "metadata": {},
     "output_type": "execute_result"
    }
   ],
   "source": [
    "users_tutorial_before_level_choice = tutorial_start_level_choise_df[ tutorial_start_level_choise_df\\\n",
    "    ['time_delta']<pd.Timedelta(0)]['user_id'].nunique()\n",
    "users_tutorial_before_level_choice "
   ]
  },
  {
   "attachments": {},
   "cell_type": "markdown",
   "metadata": {},
   "source": [
    "Находим процент пользователей, вернувшихся к обучению, после выбора уровня сложности"
   ]
  },
  {
   "cell_type": "code",
   "execution_count": 33,
   "metadata": {},
   "outputs": [
    {
     "data": {
      "text/plain": [
       "16.812227074235807"
      ]
     },
     "execution_count": 33,
     "metadata": {},
     "output_type": "execute_result"
    }
   ],
   "source": [
    "persent_users_after_level = users_tutorial_after_level_choice/users_tutorial_before_level_choice*100\n",
    "persent_users_after_level"
   ]
  },
  {
   "attachments": {},
   "cell_type": "markdown",
   "metadata": {},
   "source": [
    "Сторим круговую диаграмму"
   ]
  },
  {
   "cell_type": "code",
   "execution_count": 34,
   "metadata": {},
   "outputs": [
    {
     "data": {
      "image/png": "[encoded data removed]",
      "text/plain": [
       "<Figure size 500x500 with 1 Axes>"
      ]
     },
     "metadata": {},
     "output_type": "display_data"
    }
   ],
   "source": [
    "a = [persent_users_after_level,100-persent_users_after_level]\n",
    "labels = ['% пользователей, прошедших обучение после выбора уровня сложности', '% пользователей, прошедших обучение до выбора уровня сложности']\n",
    "fig = plt.figure(figsize=(5,5))\n",
    "axes = fig.add_axes([0,0,1,1])\n",
    "axes.pie(\n",
    "        a, \n",
    "        labels = labels, \n",
    "        autopct='%1.1f%%', \n",
    "        explode=[0.1,0])\n",
    "axes.set_title(\"Соотношение количества пользователей, прошедших обучение до выбора уровня сложности к числу пользователей, прошедших обучение после выбора уровня сложности,%\")\n",
    "plt.show()"
   ]
  },
  {
   "attachments": {},
   "cell_type": "markdown",
   "metadata": {},
   "source": [
    "### ВЫВОД: \n",
    "#### после выбора уровня сложности к обучению возвращается 16,8 % пользователей.\n",
    "- это может говорить о том, что процесс взаимодействия с игрой не совсем прозрачен и требует доработки."
   ]
  }
 ],
 "metadata": {
  "kernelspec": {
   "display_name": "Python 3",
   "language": "python",
   "name": "python3"
  },
  "language_info": {
   "codemirror_mode": {
    "name": "ipython",
    "version": 3
   },
   "file_extension": ".py",
   "mimetype": "text/x-python",
   "name": "python",
   "nbconvert_exporter": "python",
   "pygments_lexer": "ipython3",
   "version": "3.9.13"
  },
  "orig_nbformat": 4
 },
 "nbformat": 4,
 "nbformat_minor": 2
}
